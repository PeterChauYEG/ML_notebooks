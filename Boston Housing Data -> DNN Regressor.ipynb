{
 "cells": [
  {
   "cell_type": "markdown",
   "metadata": {},
   "source": [
    "# Boston Housing Data\n",
    "We are going to solve this data by predicting the Median value of owner-occupied homes in 1000s. I'm going to use a Neural Network'd regressor.\n",
    "\n",
    "## Data\n",
    "samples: 506\n",
    "features: real, positive\n",
    "Total size = [506, 14]\n",
    "\n",
    "We need to pull out the label\n",
    "x: [506, 13]\n",
    "y: [506, 1]\n",
    "\n",
    "data = { [x, y] }\n",
    "\n",
    "Then we need to split the data\n",
    "80%/20%\n",
    "\n",
    "Training set: 80%\n",
    "training_set = { x_train, y_train }\n",
    "\n",
    "Test set: 20%\n",
    "test_set = { x_test, y_test }\n",
    "\n",
    "## Implementation\n",
    "1. Get the data\n",
    "2. Preprocess the data\n",
    "3. Setup model\n",
    "4. Setup input pipelines\n",
    "5. Train the model\n",
    "6. Test the model\n",
    "7. Make a prediction"
   ]
  },
  {
   "cell_type": "code",
   "execution_count": 1,
   "metadata": {
    "collapsed": true
   },
   "outputs": [],
   "source": [
    "# Dependancies\n",
    "from __future__ import absolute_import\n",
    "from __future__ import division\n",
    "from __future__ import print_function\n",
    "\n",
    "import tensorflow as tf\n",
    "import os\n",
    "import collections\n",
    "import time\n",
    "import numpy as np\n",
    "import requests\n",
    "import csv\n",
    "\n",
    "## New stuff\n",
    "from sklearn import datasets\n",
    "from sklearn import model_selection"
   ]
  },
  {
   "cell_type": "code",
   "execution_count": 2,
   "metadata": {
    "collapsed": true
   },
   "outputs": [],
   "source": [
    "# Configurations\n",
    "# instanitate dataset object\n",
    "Dataset = collections.namedtuple('Dataset', ['data', 'target'])\n",
    "    \n",
    "# TF Logging\n",
    "tf.logging.set_verbosity(tf.logging.INFO)\n",
    "\n",
    "# Directories\n",
    "model_dir_root = '/tmp/housing'\n",
    "# model_dir = os.path.join(model_dir_root, \"linear_\" + str(int(time.time())))\n",
    "model_dir = os.path.join(model_dir_root, \"deep_\" + str(int(time.time())))\n",
    "data_file = 'boston_housing.csv'\n",
    "\n",
    "# hyper parameters\n",
    "batch_size = 10\n",
    "num_steps = 2000"
   ]
  },
  {
   "cell_type": "code",
   "execution_count": 3,
   "metadata": {
    "collapsed": true
   },
   "outputs": [],
   "source": [
    "def get_data ():\n",
    "#     raw_data = '[0,0,0,0,0,0,0,0,0,0,0,0,0,0]'\n",
    "    raw_data = datasets.load_boston()\n",
    "    \n",
    "    return raw_data "
   ]
  },
  {
   "cell_type": "code",
   "execution_count": 4,
   "metadata": {
    "collapsed": true
   },
   "outputs": [],
   "source": [
    "def explore_data (data):\n",
    "    print('Description: {}\\n'.format(data.DESCR))\n",
    "    print('Features: {}\\n'.format(data.feature_names))\n",
    "    print('Example 0: {}\\n'.format(data.data[0]))\n",
    "    print('Target 0: {}\\n'.format(data.target[0]))"
   ]
  },
  {
   "cell_type": "code",
   "execution_count": 5,
   "metadata": {
    "collapsed": true
   },
   "outputs": [],
   "source": [
    "def split_dataset (data, test_size):\n",
    "    # set x and y\n",
    "    x, y = data.data, data.target\n",
    "    \n",
    "    # split data\n",
    "    x_train, x_test, y_train, y_test = model_selection.train_test_split(\n",
    "        x, y, test_size=test_size, random_state=42)\n",
    "    \n",
    "    # Create the training set\n",
    "    train_set = create_dataset(x_train, y_train)\n",
    "    \n",
    "    # Create the test set\n",
    "    test_set = create_dataset(x_test, y_test)\n",
    "    \n",
    "    return test_set, train_set"
   ]
  },
  {
   "cell_type": "code",
   "execution_count": 6,
   "metadata": {
    "collapsed": true
   },
   "outputs": [],
   "source": [
    "def create_dataset (x, y):\n",
    "    # convert to np\n",
    "    target = np.array(y, dtype=np.int)\n",
    "    data = np.array(x)\n",
    "    \n",
    "    # merge into Dataset object\n",
    "    new_dataset = Dataset(data=data, target=target)\n",
    "    \n",
    "    return new_dataset"
   ]
  },
  {
   "cell_type": "code",
   "execution_count": 7,
   "metadata": {
    "collapsed": true
   },
   "outputs": [],
   "source": [
    "def construct_dataset ():\n",
    "    # get the data\n",
    "    raw_data = get_data()\n",
    "    \n",
    "    # explore the data\n",
    "    explore_data(raw_data)\n",
    "    \n",
    "    # split the dataset \n",
    "    # 80%/20%\n",
    "    test_set, training_set = split_dataset(raw_data, .2)\n"
   ]
  },
  {
   "cell_type": "code",
   "execution_count": null,
   "metadata": {
    "collapsed": true
   },
   "outputs": [],
   "source": []
  },
  {
   "cell_type": "code",
   "execution_count": 8,
   "metadata": {
    "scrolled": false
   },
   "outputs": [
    {
     "name": "stdout",
     "output_type": "stream",
     "text": [
      "Description: Boston House Prices dataset\n",
      "===========================\n",
      "\n",
      "Notes\n",
      "------\n",
      "Data Set Characteristics:  \n",
      "\n",
      "    :Number of Instances: 506 \n",
      "\n",
      "    :Number of Attributes: 13 numeric/categorical predictive\n",
      "    \n",
      "    :Median Value (attribute 14) is usually the target\n",
      "\n",
      "    :Attribute Information (in order):\n",
      "        - CRIM     per capita crime rate by town\n",
      "        - ZN       proportion of residential land zoned for lots over 25,000 sq.ft.\n",
      "        - INDUS    proportion of non-retail business acres per town\n",
      "        - CHAS     Charles River dummy variable (= 1 if tract bounds river; 0 otherwise)\n",
      "        - NOX      nitric oxides concentration (parts per 10 million)\n",
      "        - RM       average number of rooms per dwelling\n",
      "        - AGE      proportion of owner-occupied units built prior to 1940\n",
      "        - DIS      weighted distances to five Boston employment centres\n",
      "        - RAD      index of accessibility to radial highways\n",
      "        - TAX      full-value property-tax rate per $10,000\n",
      "        - PTRATIO  pupil-teacher ratio by town\n",
      "        - B        1000(Bk - 0.63)^2 where Bk is the proportion of blacks by town\n",
      "        - LSTAT    % lower status of the population\n",
      "        - MEDV     Median value of owner-occupied homes in $1000's\n",
      "\n",
      "    :Missing Attribute Values: None\n",
      "\n",
      "    :Creator: Harrison, D. and Rubinfeld, D.L.\n",
      "\n",
      "This is a copy of UCI ML housing dataset.\n",
      "http://archive.ics.uci.edu/ml/datasets/Housing\n",
      "\n",
      "\n",
      "This dataset was taken from the StatLib library which is maintained at Carnegie Mellon University.\n",
      "\n",
      "The Boston house-price data of Harrison, D. and Rubinfeld, D.L. 'Hedonic\n",
      "prices and the demand for clean air', J. Environ. Economics & Management,\n",
      "vol.5, 81-102, 1978.   Used in Belsley, Kuh & Welsch, 'Regression diagnostics\n",
      "...', Wiley, 1980.   N.B. Various transformations are used in the table on\n",
      "pages 244-261 of the latter.\n",
      "\n",
      "The Boston house-price data has been used in many machine learning papers that address regression\n",
      "problems.   \n",
      "     \n",
      "**References**\n",
      "\n",
      "   - Belsley, Kuh & Welsch, 'Regression diagnostics: Identifying Influential Data and Sources of Collinearity', Wiley, 1980. 244-261.\n",
      "   - Quinlan,R. (1993). Combining Instance-Based and Model-Based Learning. In Proceedings on the Tenth International Conference of Machine Learning, 236-243, University of Massachusetts, Amherst. Morgan Kaufmann.\n",
      "   - many more! (see http://archive.ics.uci.edu/ml/datasets/Housing)\n",
      "\n",
      "\n",
      "Features: ['CRIM' 'ZN' 'INDUS' 'CHAS' 'NOX' 'RM' 'AGE' 'DIS' 'RAD' 'TAX' 'PTRATIO'\n",
      " 'B' 'LSTAT']\n",
      "\n",
      "Example 0: [  6.32000000e-03   1.80000000e+01   2.31000000e+00   0.00000000e+00\n",
      "   5.38000000e-01   6.57500000e+00   6.52000000e+01   4.09000000e+00\n",
      "   1.00000000e+00   2.96000000e+02   1.53000000e+01   3.96900000e+02\n",
      "   4.98000000e+00]\n",
      "\n",
      "Target 0: 24.0\n",
      "\n"
     ]
    }
   ],
   "source": [
    "# Main Program\n",
    "construct_dataset()"
   ]
  },
  {
   "cell_type": "code",
   "execution_count": null,
   "metadata": {
    "collapsed": true
   },
   "outputs": [],
   "source": []
  },
  {
   "cell_type": "code",
   "execution_count": null,
   "metadata": {
    "collapsed": true
   },
   "outputs": [],
   "source": []
  },
  {
   "cell_type": "code",
   "execution_count": null,
   "metadata": {
    "collapsed": true
   },
   "outputs": [],
   "source": []
  },
  {
   "cell_type": "code",
   "execution_count": null,
   "metadata": {
    "collapsed": true
   },
   "outputs": [],
   "source": []
  },
  {
   "cell_type": "code",
   "execution_count": null,
   "metadata": {
    "collapsed": true
   },
   "outputs": [],
   "source": []
  },
  {
   "cell_type": "code",
   "execution_count": null,
   "metadata": {
    "collapsed": true
   },
   "outputs": [],
   "source": []
  },
  {
   "cell_type": "code",
   "execution_count": 9,
   "metadata": {
    "collapsed": true
   },
   "outputs": [],
   "source": [
    "# tensorboard --logdir=/tmp/housing"
   ]
  }
 ],
 "metadata": {
  "kernelspec": {
   "display_name": "Python 3",
   "language": "python",
   "name": "python3"
  },
  "language_info": {
   "codemirror_mode": {
    "name": "ipython",
    "version": 3
   },
   "file_extension": ".py",
   "mimetype": "text/x-python",
   "name": "python",
   "nbconvert_exporter": "python",
   "pygments_lexer": "ipython3",
   "version": "3.6.1"
  }
 },
 "nbformat": 4,
 "nbformat_minor": 2
}
