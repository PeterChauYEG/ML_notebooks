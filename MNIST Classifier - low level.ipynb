{
 "cells": [
  {
   "cell_type": "code",
   "execution_count": 1,
   "metadata": {
    "collapsed": true
   },
   "outputs": [],
   "source": [
    "from __future__ import absolute_import\n",
    "from __future__ import division\n",
    "from __future__ import print_function\n",
    "\n",
    "from six.moves import xrange\n",
    "import tensorflow as tf\n",
    "\n",
    "# datasets\n",
    "from tensorflow.contrib.learn.python.learn.datasets.mnist import read_data_sets"
   ]
  },
  {
   "cell_type": "code",
   "execution_count": 2,
   "metadata": {
    "collapsed": true
   },
   "outputs": [],
   "source": [
    "# Variables\n",
    "data_dir='/tmp/MNIST_data'\n",
    "num_steps=10000\n",
    "nBatch=100\n",
    "xl = 28\n",
    "xw = 28\n",
    "xShape = xl * xw\n",
    "yShape = 10"
   ]
  },
  {
   "cell_type": "code",
   "execution_count": 3,
   "metadata": {},
   "outputs": [],
   "source": [
    "def main(_):\n",
    "    print(\"Downloading and reading data sets...\")\n",
    "    mnist = read_data_sets(data_dir, one_hot=True)\n",
    "    \n",
    "    # create the model\n",
    "    # Create placeholder\n",
    "    # the input is a batch of images. each images is 28px x 28px\n",
    "    # we flatten the pixels so the shape is [batch, (l, w)]\n",
    "    # output is of shape [batch, yShape]\n",
    "    # this is because our labels are hotone encoded\n",
    "    # [10]\n",
    "    x = tf.placeholder(tf.float32, [None, xShape])\n",
    "    y_ = tf.placeholder(tf.float32, [None, yShape])\n",
    "                    \n",
    "    # weights (W) which is the same as\n",
    "    # [xShape, yShape]\n",
    "    W = tf.Variable(tf.zeros([xShape, yShape]))\n",
    "    \n",
    "    # bias (b) which is the same as\n",
    "    # yShape\n",
    "    b = tf.Variable(tf.zeros([yShape]))\n",
    "    \n",
    "    # define the linear function for this neuron\n",
    "    y = tf.matmul(x, W) + b\n",
    "    \n",
    "    # Define loss and optimizer\n",
    "    # we use logits with our softmax cross entropy\n",
    "    cross_entropy = tf.reduce_mean(\n",
    "        tf.nn.softmax_cross_entropy_with_logits(logits=y, labels=y_))\n",
    "    \n",
    "    # define training step function\n",
    "    # we use gradient descent to train the algorithm\n",
    "    train_step = tf.train.GradientDescentOptimizer(0.5).minimize(cross_entropy)\n",
    "                    \n",
    "    # start a tf session\n",
    "    # initialize the variables\n",
    "    sess = tf.InteractiveSession()\n",
    "    tf.global_variables_initializer().run()\n",
    "    \n",
    "    # Train for num_steps with batches of nBatch\n",
    "    print(\"training for %s steps\" % num_steps)\n",
    "    \n",
    "    for _ in xrange(num_steps):\n",
    "        # grab a batch\n",
    "        batch_xs, batch_ys = mnist.train.next_batch(nBatch)\n",
    "        \n",
    "        # run a session with the train_step\n",
    "        # feed in the training data\n",
    "        sess.run(train_step, feed_dict={x: batch_xs, \n",
    "                                        y_: batch_ys})\n",
    "                    \n",
    "    # Test trained model\n",
    "    # Find the max of the y and y_\n",
    "    # we do this cause they are hotone encoded so 1 is larger than the others\n",
    "    # that's the answer we want\n",
    "    correct_prediction = tf.equal(tf.argmax(y, 1), tf.argmax(y_, 1))\n",
    "    \n",
    "    # get accuracy by taking the reduced mean of our prediction\n",
    "    accuracy = tf.reduce_mean(tf.cast(correct_prediction, tf.float32))\n",
    "    \n",
    "    # Report accuracy\n",
    "    # run a session with the test data\n",
    "    print(\"accuracy: %s \" % sess.run(accuracy,\n",
    "                                    feed_dict={x: mnist.test.images,\n",
    "                                               y_: mnist.test.labels}))"
   ]
  },
  {
   "cell_type": "code",
   "execution_count": 4,
   "metadata": {},
   "outputs": [
    {
     "name": "stdout",
     "output_type": "stream",
     "text": [
      "Downloading and reading data sets...\n",
      "Extracting /tmp/MNIST_data/train-images-idx3-ubyte.gz\n",
      "Extracting /tmp/MNIST_data/train-labels-idx1-ubyte.gz\n",
      "Extracting /tmp/MNIST_data/t10k-images-idx3-ubyte.gz\n",
      "Extracting /tmp/MNIST_data/t10k-labels-idx1-ubyte.gz\n",
      "training for 10000 steps\n",
      "accuracy: 0.9226 \n"
     ]
    }
   ],
   "source": [
    "if __name__ == \"__main__\":\n",
    "    main(_)"
   ]
  },
  {
   "cell_type": "code",
   "execution_count": null,
   "metadata": {
    "collapsed": true
   },
   "outputs": [],
   "source": []
  }
 ],
 "metadata": {
  "kernelspec": {
   "display_name": "Python 3",
   "language": "python",
   "name": "python3"
  },
  "language_info": {
   "codemirror_mode": {
    "name": "ipython",
    "version": 3
   },
   "file_extension": ".py",
   "mimetype": "text/x-python",
   "name": "python",
   "nbconvert_exporter": "python",
   "pygments_lexer": "ipython3",
   "version": "3.6.1"
  }
 },
 "nbformat": 4,
 "nbformat_minor": 2
}
