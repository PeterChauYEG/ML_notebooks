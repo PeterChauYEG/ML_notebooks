{
 "cells": [
  {
   "cell_type": "markdown",
   "metadata": {},
   "source": [
    "# MNIST Classifier\n",
    "\n",
    "Practice implementation of this [example](https://github.com/amygdala/tensorflow-workshop/blob/master/workshop_sections/mnist_series/mnist_simple.py) 🙏"
   ]
  },
  {
   "cell_type": "code",
   "execution_count": 1,
   "metadata": {
    "collapsed": true
   },
   "outputs": [],
   "source": [
    "# Import Dependancies\n",
    "from __future__ import absolute_import\n",
    "from __future__ import division\n",
    "from __future__ import print_function\n",
    "\n",
    "from six.moves import xrange\n",
    "import tensorflow as tf\n",
    "\n",
    "import matplotlib.pyplot as plt\n",
    "import matplotlib.image as mpimg\n",
    "import numpy as np\n",
    "import random"
   ]
  },
  {
   "cell_type": "code",
   "execution_count": 2,
   "metadata": {
    "collapsed": true
   },
   "outputs": [],
   "source": [
    "# Import Data\n",
    "from tensorflow.contrib.learn.python.learn.datasets.mnist import read_data_sets"
   ]
  },
  {
   "cell_type": "code",
   "execution_count": 3,
   "metadata": {
    "collapsed": true
   },
   "outputs": [],
   "source": [
    "# Configure matplotlib\n",
    "%matplotlib inline\n",
    "\n",
    "# Configure random\n",
    "# make a random seed\n",
    "random.seed()"
   ]
  },
  {
   "cell_type": "code",
   "execution_count": 4,
   "metadata": {
    "collapsed": true
   },
   "outputs": [],
   "source": [
    "# Declare variables\n",
    "data_dir = '/tmp/MNIST_data'\n",
    "\n",
    "# number of steps to iterate to\n",
    "num_steps = 10000\n",
    "\n",
    "# size of each batch of training examples to learn\n",
    "batch_size = 100\n",
    "\n",
    "# size of our image when it is not flattened\n",
    "# the example comes flattened as (784)\n",
    "# it's actually (28,28)\n",
    "xl = 28\n",
    "xw = 28\n",
    "xShape = xl * xw\n",
    "\n",
    "# our label is 1-hot encoded so it's shape is (1, num_categories)\n",
    "yShape = 10"
   ]
  },
  {
   "cell_type": "code",
   "execution_count": 5,
   "metadata": {},
   "outputs": [
    {
     "name": "stdout",
     "output_type": "stream",
     "text": [
      "Extracting /tmp/MNIST_data/train-images-idx3-ubyte.gz\n",
      "Extracting /tmp/MNIST_data/train-labels-idx1-ubyte.gz\n",
      "Extracting /tmp/MNIST_data/t10k-images-idx3-ubyte.gz\n",
      "Extracting /tmp/MNIST_data/t10k-labels-idx1-ubyte.gz\n"
     ]
    }
   ],
   "source": [
    "# Split Data into a training and test set\n",
    "data = read_data_sets(data_dir, one_hot=True)\n",
    "training_data = data.train\n",
    "test_data = data.test"
   ]
  },
  {
   "cell_type": "code",
   "execution_count": 6,
   "metadata": {
    "collapsed": true
   },
   "outputs": [],
   "source": [
    "# Explore data\n",
    "# explore_data(data, 4)"
   ]
  },
  {
   "cell_type": "code",
   "execution_count": 7,
   "metadata": {
    "collapsed": true
   },
   "outputs": [],
   "source": [
    "# Declare placeholders\n",
    "# we want to have our input, x (784) go into 1 neuron\n",
    "# which outputs, y (10)\n",
    "# the neuron should be a linear equation such as:\n",
    "# y_ = x * W + b\n",
    "\n",
    "# placeholder for image\n",
    "x = tf.placeholder(tf.float32, [None, xShape])\n",
    "# placeholder for label\n",
    "y_ = tf.placeholder(tf.float32, [None, yShape])\n",
    "\n",
    "# we need weights to to adjust\n",
    "# which will be initialized near zero\n",
    "# [xShape, yShape]\n",
    "W = tf.Variable(tf.zeros([xShape, yShape]))\n",
    "\n",
    "# we need bais, b for out model\n",
    "b = tf.Variable(tf.zeros([yShape]))"
   ]
  },
  {
   "cell_type": "code",
   "execution_count": 8,
   "metadata": {},
   "outputs": [],
   "source": [
    "# Display an example as an image\n",
    "def display_image(example):\n",
    "    \"\"\"explore the mnist dataset by plotting it as an image. data: the mnist dataset, n: the example to readt from 0 - dataset.size\"\"\"\n",
    "    # Plot it as an image\n",
    "    # by turning it into a numpy array\n",
    "    # then reshaping it into 2D of size (28, 28)\n",
    "    print(\"Example:\")\n",
    "    np_example = np.array(example)\n",
    "    np_example_2d = np.reshape(np_example, (xl, xl))\n",
    "\n",
    "    plt.imshow(np_example_2d, cmap='gray')\n",
    "    plt.show()"
   ]
  },
  {
   "cell_type": "code",
   "execution_count": 9,
   "metadata": {
    "collapsed": true
   },
   "outputs": [],
   "source": [
    "# Define Evaluation function\n",
    "def evaluate_model(evaluate, test_data):\n",
    "    model_accuracy = sess.run(\n",
    "        evaluate,\n",
    "        feed_dict={\n",
    "            x: test_data.images,\n",
    "            y_: test_data.labels\n",
    "        }\n",
    "    )\n",
    "\n",
    "    accuracy_percent = model_accuracy * 100\n",
    "    # Log out data\n",
    "    print(\"accuracy: %s%%\" % accuracy_percent)"
   ]
  },
  {
   "cell_type": "code",
   "execution_count": 10,
   "metadata": {
    "collapsed": true
   },
   "outputs": [],
   "source": [
    "# Exploration of image set data\n",
    "def explore_data(data, n):\n",
    "    \"\"\"explore the mnist dataset by logging an image, and label. data: the mnist dataset, n: the example to readt from 0 - dataset.size\"\"\"\n",
    "    # Log a chunk of data\n",
    "    # Log 1 image from the training data\n",
    "    # Log 1 label from the training data\n",
    "    training_image = data.train.images[n]\n",
    "    training_label = data.train.labels[n]\n",
    "    np_training_image = np.array(training_image)\n",
    "\n",
    "    print('Training Example', n, ':', np_training_image)\n",
    "    print('Training Example Label', n, ':', training_label)"
   ]
  },
  {
   "cell_type": "code",
   "execution_count": 11,
   "metadata": {},
   "outputs": [],
   "source": [
    "# Define Prediction function\n",
    "def predict(data, n, prediction):\n",
    "    actual_y = data.labels[n]\n",
    "    acutal_label = np.argmax(actual_y)\n",
    "    example_x = data.images[n]\n",
    "    example_x_2d = np.reshape(np.array(example_x), (-1, 784))\n",
    "\n",
    "    example_prediction = sess.run(\n",
    "        prediction,\n",
    "        feed_dict={\n",
    "            x: example_x_2d\n",
    "        }\n",
    "    )\n",
    "\n",
    "    # grab the prediction inside the array\n",
    "    prediction_formatted = example_prediction[0]\n",
    "    \n",
    "    print(\"prediction: %s \" % prediction_formatted)\n",
    "    print(\"label: %s \" % acutal_label)\n",
    "    display_image(example_x)"
   ]
  },
  {
   "cell_type": "code",
   "execution_count": 28,
   "metadata": {
    "collapsed": true
   },
   "outputs": [],
   "source": [
    "# Define make random predictions\n",
    "def random_prediction(data, n, prediction):\n",
    "    # generate a set of n, random integers \n",
    "    random_set = random.sample(range(1, 10000), n)\n",
    "    print(\"Random set used: %s \" % random_set)\n",
    "    # make predictions\n",
    "    for i in random_set:\n",
    "        predict(data, i, prediction)\n",
    "        print(\"-------------------------------------------\")"
   ]
  },
  {
   "cell_type": "code",
   "execution_count": 13,
   "metadata": {
    "collapsed": true
   },
   "outputs": [],
   "source": [
    "# Define training function\n",
    "def train_model(batch_size, num_steps, training_data, training_func):\n",
    "    print(\"Training for %s steps\" % num_steps)\n",
    "\n",
    "    for _ in xrange(num_steps):\n",
    "        # grab a batch\n",
    "        batch_xs, batch_ys = training_data.next_batch(batch_size)\n",
    "\n",
    "        # run a session with the training function\n",
    "        # feed in the training data\n",
    "        sess.run(training_func, feed_dict={\n",
    "            x: batch_xs,\n",
    "            y_: batch_ys\n",
    "        })"
   ]
  },
  {
   "cell_type": "code",
   "execution_count": 14,
   "metadata": {
    "collapsed": true
   },
   "outputs": [],
   "source": [
    "# Operations\n",
    "# ---------------------------------------------------------------\n",
    "\n",
    "# Define Model\n",
    "y = tf.matmul(x, W) + b\n",
    "\n",
    "# Define Loss and optimizer operation\n",
    "# we use logits with our softmax cross entropy\n",
    "cross_entropy = tf.reduce_mean(\n",
    "    tf.nn.softmax_cross_entropy_with_logits(\n",
    "        logits=y,\n",
    "        labels=y_\n",
    "    )\n",
    ")\n",
    "\n",
    "# Define training operation\n",
    "# we use gradient descent to train the algorithm\n",
    "train = tf.train.GradientDescentOptimizer(0.5).minimize(cross_entropy)    \n",
    "\n",
    "# Define what a correct_prediction is (operation)\n",
    "# the category we predict should be the category of the example\n",
    "# determine if the prediction is correction\n",
    "correct_prediction = tf.equal(\n",
    "    tf.argmax(y, 1), \n",
    "    tf.argmax(y_, 1)\n",
    ")\n",
    "\n",
    "# Define how we will evaluate our model (operation)\n",
    "# calculate the reduced mean of our prediction\n",
    "evaluate = tf.reduce_mean(\n",
    "    tf.cast(\n",
    "        correct_prediction,\n",
    "        tf.float32\n",
    "    )\n",
    ")\n",
    "\n",
    "# Define how we will get the prediction\n",
    "prediction = tf.argmax(y, 1)"
   ]
  },
  {
   "cell_type": "code",
   "execution_count": 15,
   "metadata": {},
   "outputs": [
    {
     "name": "stdout",
     "output_type": "stream",
     "text": [
      "Training for 10000 steps\n"
     ]
    }
   ],
   "source": [
    "# ---------------------------------------------------------------\n",
    "# Start TF session\n",
    "# initialize variables\n",
    "sess = tf.InteractiveSession()\n",
    "tf.global_variables_initializer().run()    \n",
    "\n",
    "# Train Model\n",
    "train_model(\n",
    "    batch_size,\n",
    "    num_steps,\n",
    "    training_data,\n",
    "    train\n",
    ")"
   ]
  },
  {
   "cell_type": "code",
   "execution_count": 16,
   "metadata": {},
   "outputs": [
    {
     "name": "stdout",
     "output_type": "stream",
     "text": [
      "accuracy: 92.4700021744%\n"
     ]
    }
   ],
   "source": [
    "# Evaluate the Model\n",
    "evaluate_model(\n",
    "    evaluate,\n",
    "    test_data\n",
    ")"
   ]
  },
  {
   "cell_type": "code",
   "execution_count": 17,
   "metadata": {},
   "outputs": [
    {
     "name": "stdout",
     "output_type": "stream",
     "text": [
      "prediction: 1 \n",
      "label: 1 \n",
      "Example:\n"
     ]
    },
    {
     "data": {
      "image/png": "[encoded data removed]",
      "text/plain": [
       "<matplotlib.figure.Figure at 0x7ff69a0449b0>"
      ]
     },
     "metadata": {},
     "output_type": "display_data"
    }
   ],
   "source": [
    "# Make a prediction\n",
    "predict(\n",
    "    test_data,\n",
    "    1025,\n",
    "    prediction\n",
    ")"
   ]
  },
  {
   "cell_type": "code",
   "execution_count": 29,
   "metadata": {
    "scrolled": false
   },
   "outputs": [
    {
     "name": "stdout",
     "output_type": "stream",
     "text": [
      "Random set used: [2944, 4217, 9464, 6823, 6638] \n",
      "prediction: 0 \n",
      "label: 0 \n",
      "Example:\n"
     ]
    },
    {
     "data": {
      "image/png": "[encoded data removed]",
      "text/plain": [
       "<matplotlib.figure.Figure at 0x7ff69758a9b0>"
      ]
     },
     "metadata": {},
     "output_type": "display_data"
    },
    {
     "name": "stdout",
     "output_type": "stream",
     "text": [
      "-------------------------------------------\n",
      "prediction: 4 \n",
      "label: 4 \n",
      "Example:\n"
     ]
    },
    {
     "data": {
      "image/png": "[encoded data removed]",
      "text/plain": [
       "<matplotlib.figure.Figure at 0x7ff6d4996438>"
      ]
     },
     "metadata": {},
     "output_type": "display_data"
    },
    {
     "name": "stdout",
     "output_type": "stream",
     "text": [
      "-------------------------------------------\n",
      "prediction: 1 \n",
      "label: 1 \n",
      "Example:\n"
     ]
    },
    {
     "data": {
      "image/png": "[encoded data removed]",
      "text/plain": [
       "<matplotlib.figure.Figure at 0x7ff6975f1240>"
      ]
     },
     "metadata": {},
     "output_type": "display_data"
    },
    {
     "name": "stdout",
     "output_type": "stream",
     "text": [
      "-------------------------------------------\n",
      "prediction: 5 \n",
      "label: 5 \n",
      "Example:\n"
     ]
    },
    {
     "data": {
      "image/png": "[encoded data removed]",
      "text/plain": [
       "<matplotlib.figure.Figure at 0x7ff69783fd30>"
      ]
     },
     "metadata": {},
     "output_type": "display_data"
    },
    {
     "name": "stdout",
     "output_type": "stream",
     "text": [
      "-------------------------------------------\n",
      "prediction: 5 \n",
      "label: 5 \n",
      "Example:\n"
     ]
    },
    {
     "data": {
      "image/png": "[encoded data removed]",
      "text/plain": [
       "<matplotlib.figure.Figure at 0x7ff6976ca390>"
      ]
     },
     "metadata": {},
     "output_type": "display_data"
    },
    {
     "name": "stdout",
     "output_type": "stream",
     "text": [
      "-------------------------------------------\n"
     ]
    }
   ],
   "source": [
    "# Make random predictions\n",
    "random_prediction(\n",
    "    test_data,\n",
    "    5,\n",
    "    prediction\n",
    ")"
   ]
  },
  {
   "cell_type": "code",
   "execution_count": null,
   "metadata": {
    "collapsed": true
   },
   "outputs": [],
   "source": []
  }
 ],
 "metadata": {
  "kernelspec": {
   "display_name": "Python 3",
   "language": "python",
   "name": "python3"
  },
  "language_info": {
   "codemirror_mode": {
    "name": "ipython",
    "version": 3
   },
   "file_extension": ".py",
   "mimetype": "text/x-python",
   "name": "python",
   "nbconvert_exporter": "python",
   "pygments_lexer": "ipython3",
   "version": "3.6.1"
  }
 },
 "nbformat": 4,
 "nbformat_minor": 2
}
