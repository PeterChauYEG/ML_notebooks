{
 "cells": [
  {
   "cell_type": "markdown",
   "metadata": {},
   "source": [
    "# MNIST Estimator\n",
    "\n",
    "The original is too big to load in. Strange. This one will have a lot less comments"
   ]
  },
  {
   "cell_type": "code",
   "execution_count": null,
   "metadata": {
    "collapsed": true
   },
   "outputs": [],
   "source": [
    "# Import Dependancies\n",
    "from __future__ import absolute_import\n",
    "from __future__ import division\n",
    "from __future__ import print_function\n",
    "\n",
    "import tensorflow as tf\n",
    "import os\n",
    "import time\n",
    "import numpy as np"
   ]
  },
  {
   "cell_type": "code",
   "execution_count": null,
   "metadata": {
    "collapsed": true
   },
   "outputs": [],
   "source": [
    "# Import Data\n",
    "from tensorflow.examples.tutorials.mnist import input_data"
   ]
  },
  {
   "cell_type": "code",
   "execution_count": null,
   "metadata": {
    "collapsed": true
   },
   "outputs": [],
   "source": [
    "# configure tf logging\n",
    "tf.logging.set_verbosity(tf.logging.INFO)"
   ]
  },
  {
   "cell_type": "code",
   "execution_count": null,
   "metadata": {},
   "outputs": [],
   "source": [
    "# Declare variables\n",
    "data_dir = '/tmp/MNIST_data'\n",
    "model_dir_root = '/tmp/mnist_estimators'\n",
    "model_dir = os.path.join(model_dir_root, \"deep_\" + str(int(time.time())))\n",
    "\n",
    "# size of each batch of training examples to learn\n",
    "batch_size = 100\n",
    "\n",
    "num_steps = 15000\n",
    "\n",
    "global DATA_SETS\n",
    "print(\"downloading and reading data sets...\")\n",
    "DATA_SETS = input_data.read_data_sets(data_dir)"
   ]
  },
  {
   "cell_type": "code",
   "execution_count": null,
   "metadata": {
    "collapsed": true
   },
   "outputs": [],
   "source": [
    "def generate_input_fn(dataset, batch_size=batch_size):\n",
    "    def _input_fn():\n",
    "        X = tf.constant(dataset.images)\n",
    "        Y = tf.constant(dataset.labels, dtype=tf.int32)\n",
    "        image_batch, label_batch = tf.train.shuffle_batch(\n",
    "            [X,Y],\n",
    "            batch_size=batch_size,\n",
    "            capacity=8*batch_size,\n",
    "            min_after_dequeue=4*batch_size,\n",
    "            enqueue_many=True\n",
    "        )\n",
    "        return {'pixels': image_batch}, label_batch\n",
    "    return _input_fn"
   ]
  },
  {
   "cell_type": "code",
   "execution_count": null,
   "metadata": {
    "collapsed": true
   },
   "outputs": [],
   "source": [
    "def define_and_run_dnn_classifier(num_steps, logdir, lr=.1, batch_size=40):\n",
    "    \"\"\"Run a DNN classifier\"\"\"\n",
    "    \n",
    "    feature_columns = [tf.contrib.layers.real_valued_column(\"pixels\", dimension=784)]\n",
    "    \n",
    "    classifier = tf.estimator.DNNClassifier(\n",
    "        feature_columns=feature_columns,\n",
    "        n_classes=10,\n",
    "        hidden_units=[128, 64, 32],\n",
    "        optimizer=tf.train.ProximalAdagradOptimizer(learning_rate=lr),\n",
    "        model_dir=logdir\n",
    "    )\n",
    "    \n",
    "    classifier.train(\n",
    "        input_fn=generate_input_fn(\n",
    "            DATA_SETS.train,\n",
    "            batch_size=batch_size\n",
    "        ),\n",
    "        steps=num_steps\n",
    "    )\n",
    "    \n",
    "    print(\"Finished running the deep training\")\n",
    "    print(\"evaluating DNN classifier accuracy\")\n",
    "    \n",
    "    accuracy_score = classifier.evaluate(\n",
    "        input_fn=generate_input_fn(\n",
    "            DATA_SETS.test,\n",
    "            batch_size=batch_size\n",
    "        ),\n",
    "        steps=100\n",
    "    )['accuracy']\n",
    "    \n",
    "    print(\"DNN classifier accuracy: {0:f}\".format(accuracy_score))"
   ]
  },
  {
   "cell_type": "code",
   "execution_count": null,
   "metadata": {
    "scrolled": false
   },
   "outputs": [],
   "source": [
    "print(\"Running DNN Classifier\")\n",
    "define_and_run_dnn_classifier(\n",
    "    num_steps,\n",
    "    model_dir\n",
    ")"
   ]
  },
  {
   "cell_type": "code",
   "execution_count": null,
   "metadata": {
    "collapsed": true
   },
   "outputs": [],
   "source": [
    "# tensorboard --logdir=/tmp/mnist_estimators"
   ]
  }
 ],
 "metadata": {
  "kernelspec": {
   "display_name": "Python 3",
   "language": "python",
   "name": "python3"
  },
  "language_info": {
   "codemirror_mode": {
    "name": "ipython",
    "version": 3
   },
   "file_extension": ".py",
   "mimetype": "text/x-python",
   "name": "python",
   "nbconvert_exporter": "python",
   "pygments_lexer": "ipython3",
   "version": "3.6.1"
  }
 },
 "nbformat": 4,
 "nbformat_minor": 2
}
